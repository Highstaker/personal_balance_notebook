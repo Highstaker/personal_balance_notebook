{
 "cells": [
  {
   "cell_type": "code",
   "execution_count": null,
   "metadata": {
    "collapsed": true
   },
   "outputs": [],
   "source": [
    "import numpy as np\n",
    "import pandas as pd"
   ]
  },
  {
   "cell_type": "markdown",
   "metadata": {},
   "source": [
    "## Parameters"
   ]
  },
  {
   "cell_type": "code",
   "execution_count": null,
   "metadata": {
    "collapsed": true
   },
   "outputs": [],
   "source": [
    "YEAR = 2017"
   ]
  },
  {
   "cell_type": "markdown",
   "metadata": {},
   "source": [
    "## Import source"
   ]
  },
  {
   "cell_type": "code",
   "execution_count": null,
   "metadata": {
    "collapsed": true
   },
   "outputs": [],
   "source": [
    "df = pd.read_excel('balance_{}.xls'.format(YEAR))"
   ]
  },
  {
   "cell_type": "markdown",
   "metadata": {},
   "source": [
    "## Prepare dataset"
   ]
  },
  {
   "cell_type": "markdown",
   "metadata": {},
   "source": [
    "### Preparing dates"
   ]
  },
  {
   "cell_type": "code",
   "execution_count": null,
   "metadata": {
    "collapsed": true
   },
   "outputs": [],
   "source": [
    "# ffill propagates last valid observation forward to next valid\n",
    "df['Date'] = df['Date'].fillna(method='ffill')"
   ]
  },
  {
   "cell_type": "code",
   "execution_count": null,
   "metadata": {
    "collapsed": true
   },
   "outputs": [],
   "source": [
    "df['Date'] = df['Date'].apply(lambda x: pd.to_datetime(x+\"/{}\".format(YEAR), format='%d/%m/%Y').date())"
   ]
  },
  {
   "cell_type": "markdown",
   "metadata": {},
   "source": [
    "### Filling empties in Income/Expense with zeroes"
   ]
  },
  {
   "cell_type": "code",
   "execution_count": null,
   "metadata": {
    "collapsed": true
   },
   "outputs": [],
   "source": [
    "df['Income'] = df['Income'].fillna(value=0)"
   ]
  },
  {
   "cell_type": "code",
   "execution_count": null,
   "metadata": {
    "collapsed": true
   },
   "outputs": [],
   "source": [
    "df['Expense'] = df['Expense'].fillna(value=0)"
   ]
  },
  {
   "cell_type": "markdown",
   "metadata": {},
   "source": [
    "### Creating a change field"
   ]
  },
  {
   "cell_type": "code",
   "execution_count": null,
   "metadata": {
    "collapsed": true
   },
   "outputs": [],
   "source": [
    "df['Change'] = df['Income'] - df['Expense']"
   ]
  },
  {
   "cell_type": "markdown",
   "metadata": {},
   "source": [
    "### Creating a current balance field"
   ]
  },
  {
   "cell_type": "code",
   "execution_count": null,
   "metadata": {
    "collapsed": true,
    "scrolled": true
   },
   "outputs": [],
   "source": [
    "# initializing, setting the first to the first change value\n",
    "df['Current balance'] = 0.0\n",
    "df.set_value(0, 'Current balance', df.iloc[0]['Change']);"
   ]
  },
  {
   "cell_type": "code",
   "execution_count": null,
   "metadata": {
    "collapsed": true,
    "scrolled": true
   },
   "outputs": [],
   "source": [
    "# populating\n",
    "for n, i in enumerate(df.index):\n",
    "    if n:\n",
    "        df.set_value(i,'Current balance', df.iloc[n-1]['Current balance'] + df.iloc[n]['Change'])"
   ]
  },
  {
   "cell_type": "markdown",
   "metadata": {},
   "source": [
    "### Adding month field"
   ]
  },
  {
   "cell_type": "code",
   "execution_count": null,
   "metadata": {
    "collapsed": true
   },
   "outputs": [],
   "source": [
    "MONTHS = ['January', 'February', 'March', 'April', 'May', 'June', 'July', 'August', 'September', 'October', 'November', 'December']\n",
    "df['Month'] = df['Date'].apply(lambda x: MONTHS[x.month-1])\n"
   ]
  },
  {
   "cell_type": "markdown",
   "metadata": {},
   "source": [
    "# Graphs"
   ]
  },
  {
   "cell_type": "code",
   "execution_count": null,
   "metadata": {
    "collapsed": true
   },
   "outputs": [],
   "source": [
    "import seaborn as sns\n",
    "import matplotlib.pyplot as plt\n",
    "%matplotlib inline"
   ]
  },
  {
   "cell_type": "markdown",
   "metadata": {},
   "source": [
    "## Balance in time"
   ]
  },
  {
   "cell_type": "code",
   "execution_count": null,
   "metadata": {
    "collapsed": true
   },
   "outputs": [],
   "source": [
    "# as_index=False, or else the plotting function won't work\n",
    "df_groupedby_date = df[['Date', 'Current balance']].groupby('Date', as_index=False).last()"
   ]
  },
  {
   "cell_type": "code",
   "execution_count": null,
   "metadata": {
    "scrolled": true
   },
   "outputs": [],
   "source": [
    "from random import randint\n",
    "\n",
    "# RUN TWICE\n",
    "fig, ax = plt.subplots()\n",
    "fig.set_figwidth(30)\n",
    "fig.set_figheight(10)\n",
    "# sns.set_style(\"whitegrid\", {'axes.grid' : True})\n",
    "sns.set_style(\"darkgrid\", {\n",
    "    'axes.grid' : True,\n",
    "    \"axes.facecolor\": \"#aaaaaa\",\n",
    "'grid.linestyle': '--',\n",
    "})\n",
    "ax.grid(color='white', linestyle='-', linewidth=5)\n",
    "\n",
    "\n",
    "# ci - confidence intervals. We don't need those.\n",
    "sns.pointplot(ax=ax, x='Date', y='Current balance', data=df_groupedby_date, markers=[\"None\"], color='black', ci=None)\n",
    "\n",
    "#Setting rotation for labels and managing background colors for months\n",
    "start_rect, end_rect = -1, -1\n",
    "month_buf = 1\n",
    "for n, lab in enumerate(ax.get_xticklabels()):\n",
    "    lab.set_rotation(90)    \n",
    "    month = int(lab.get_text().split('-')[1])\n",
    "    \n",
    "    if month != month_buf:\n",
    "        color = '#{:02X}{:02X}{:02X}'.format(randint(0,255),randint(0,255),randint(0,255))\n",
    "        end_rect = n-1\n",
    "        plt.axvspan(start_rect, end_rect, facecolor=color, alpha=0.5)\n",
    "        start_rect = n-1\n",
    "        month_buf = month\n",
    "else:\n",
    "    color = '#{:02X}{:02X}{:02X}'.format(randint(0,255),randint(0,255),randint(0,255))\n",
    "    end_rect = n+1\n",
    "    plt.axvspan(start_rect, end_rect, facecolor=color, alpha=0.5)\n"
   ]
  },
  {
   "cell_type": "markdown",
   "metadata": {},
   "source": [
    "## Type distribution"
   ]
  },
  {
   "cell_type": "code",
   "execution_count": null,
   "metadata": {
    "collapsed": true
   },
   "outputs": [],
   "source": [
    "# as_index=False, or else the plotting function won't work\n",
    "df_groupedby_type = df[['Type', 'Expense']][df['Expense'] > 0].groupby('Type', as_index=False).sum()"
   ]
  },
  {
   "cell_type": "code",
   "execution_count": null,
   "metadata": {
    "scrolled": false
   },
   "outputs": [],
   "source": [
    "sns.set(font_scale=2)\n",
    "sns.set_style(\"darkgrid\", {\n",
    "    'axes.grid' : True,\n",
    "    \"axes.facecolor\": \"#aaaaaa\",\n",
    "'grid.linestyle': '--',\n",
    "})\n",
    "\n",
    "fig, ax = plt.subplots()\n",
    "fig.set_figwidth(30)\n",
    "fig.set_figheight(10)\n",
    "ax.xaxis.label.set_size(30)\n",
    "ax.yaxis.label.set_label('Expenses')\n",
    "ax.yaxis.label.set_size(30)\n",
    "ax.grid(color='white', linestyle='-', linewidth=5)\n",
    "\n",
    "\n",
    "for lab in ax.get_xticklabels():\n",
    "    lab.set_rotation(90)\n",
    "    lab.set_fontsize(20)\n",
    "\n",
    "sns.barplot(ax=ax,x='Type', y='Expense', data=df_groupedby_type, ci=None)"
   ]
  },
  {
   "cell_type": "markdown",
   "metadata": {},
   "source": [
    "### Excluding big expenses for better representation"
   ]
  },
  {
   "cell_type": "code",
   "execution_count": null,
   "metadata": {},
   "outputs": [],
   "source": [
    "EXCLUDED = {'family',}\n",
    "\n",
    "sns.set(font_scale=2)\n",
    "sns.set_style(\"darkgrid\", {\n",
    "    'axes.grid' : True,\n",
    "    \"axes.facecolor\": \"#aaaaaa\",\n",
    "'grid.linestyle': '--',\n",
    "})\n",
    "\n",
    "fig, ax = plt.subplots()\n",
    "fig.set_figwidth(30)\n",
    "fig.set_figheight(10)\n",
    "ax.xaxis.label.set_size(30)\n",
    "ax.yaxis.label.set_label('Expenses')\n",
    "ax.yaxis.label.set_size(30)\n",
    "ax.grid(color='white', linestyle='-', linewidth=5)\n",
    "\n",
    "\n",
    "for lab in ax.get_xticklabels():\n",
    "    lab.set_rotation(90)\n",
    "    lab.set_fontsize(20)\n",
    "\n",
    "sns.barplot(x='Type', y='Expense', data=df_groupedby_type[~df_groupedby_type['Type'].isin(EXCLUDED)], ci=None)"
   ]
  },
  {
   "cell_type": "markdown",
   "metadata": {},
   "source": [
    "## Type and month distribution"
   ]
  },
  {
   "cell_type": "code",
   "execution_count": null,
   "metadata": {
    "collapsed": true
   },
   "outputs": [],
   "source": [
    "# as_index=False, or else the plotting function won't work\n",
    "df_groupedby_type_month = df[['Type', 'Expense', 'Month']][df['Expense'] > 0].groupby(['Type', 'Month'], as_index=False).sum()"
   ]
  },
  {
   "cell_type": "code",
   "execution_count": null,
   "metadata": {
    "scrolled": false
   },
   "outputs": [],
   "source": [
    "sns.set(font_scale=2)\n",
    "sns.set_style(\"darkgrid\", {\n",
    "    'axes.grid' : True,\n",
    "    \"axes.facecolor\": \"#aaaaaa\",\n",
    "'grid.linestyle': '--',\n",
    "})\n",
    "\n",
    "fig, ax = plt.subplots()\n",
    "fig.set_figwidth(30)\n",
    "fig.set_figheight(10)\n",
    "ax.xaxis.label.set_size(30)\n",
    "ax.yaxis.label.set_label('Expenses')\n",
    "ax.yaxis.label.set_size(30)\n",
    "ax.grid(color='white', linestyle='-', linewidth=5)\n",
    "\n",
    "\n",
    "for lab in ax.get_xticklabels():\n",
    "    lab.set_rotation(90)\n",
    "    lab.set_fontsize(20)\n",
    "\n",
    "sns.barplot(ax=ax,x='Type', y='Expense', hue='Month', data=df_groupedby_type_month, ci=None)\n",
    "# sns.barplot(ax=ax,x='Month', y='Expense', hue='Type', data=df_groupedby_type_month, ci=None)"
   ]
  },
  {
   "cell_type": "markdown",
   "metadata": {},
   "source": [
    "# Garbage"
   ]
  }
 ],
 "metadata": {
  "kernelspec": {
   "display_name": "Python [default]",
   "language": "python",
   "name": "python3"
  },
  "language_info": {
   "codemirror_mode": {
    "name": "ipython",
    "version": 3
   },
   "file_extension": ".py",
   "mimetype": "text/x-python",
   "name": "python",
   "nbconvert_exporter": "python",
   "pygments_lexer": "ipython3",
   "version": "3.6.3"
  }
 },
 "nbformat": 4,
 "nbformat_minor": 2
}
